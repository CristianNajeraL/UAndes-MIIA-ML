{
 "cells": [
  {
   "cell_type": "markdown",
   "metadata": {},
   "source": [
    "# Exercise 6\n",
    "\n",
    "## SVM & Regularization\n",
    "\n",
    "\n",
    "For this homework we consider a set of observations on a number of red and white wine varieties involving their chemical properties and ranking by tasters. Wine industry shows a recent growth spurt as social drinking is on the rise. The price of wine depends on a rather abstract concept of wine appreciation by wine tasters, opinion among whom may have a high degree of variability. Pricing of wine depends on such a volatile factor to some extent. Another key factor in wine certification and quality assessment is physicochemical tests which are laboratory-based and takes into account factors like acidity, pH level, presence of sugar and other chemical properties. For the wine market, it would be of interest if human quality of tasting can be related to the chemical properties of wine so that certification and quality assessment and assurance process is more controlled.\n",
    "\n",
    "Two datasets are available of which one dataset is on red wine and have 1599 different varieties and the other is on white wine and have 4898 varieties. All wines are produced in a particular area of Portugal. Data are collected on 12 different properties of the wines one of which is Quality, based on sensory data, and the rest are on chemical properties of the wines including density, acidity, alcohol content etc. All chemical properties of wines are continuous variables. Quality is an ordinal variable with possible ranking from 1 (worst) to 10 (best). Each variety of wine is tasted by three independent tasters and the final rank assigned is the median rank given by the tasters.\n",
    "\n",
    "A predictive model developed on this data is expected to provide guidance to vineyards regarding quality and price expected on their produce without heavy reliance on volatility of wine tasters."
   ]
  },
  {
   "cell_type": "code",
   "execution_count": 1,
   "metadata": {},
   "outputs": [],
   "source": [
    "import pandas as pd\n",
    "import numpy as np"
   ]
  },
  {
   "cell_type": "code",
   "execution_count": 2,
   "metadata": {},
   "outputs": [],
   "source": [
    "data_r = pd.read_csv('https://github.com/albahnsen/PracticalMachineLearningClass/raw/master/datasets/Wine_data_red.csv')\n",
    "data_w = pd.read_csv('https://github.com/albahnsen/PracticalMachineLearningClass/raw/master/datasets/Wine_data_white.csv')"
   ]
  },
  {
   "cell_type": "code",
   "execution_count": 3,
   "metadata": {},
   "outputs": [
    {
     "data": {
      "text/html": [
       "<div>\n",
       "<style scoped>\n",
       "    .dataframe tbody tr th:only-of-type {\n",
       "        vertical-align: middle;\n",
       "    }\n",
       "\n",
       "    .dataframe tbody tr th {\n",
       "        vertical-align: top;\n",
       "    }\n",
       "\n",
       "    .dataframe thead th {\n",
       "        text-align: right;\n",
       "    }\n",
       "</style>\n",
       "<table border=\"1\" class=\"dataframe\">\n",
       "  <thead>\n",
       "    <tr style=\"text-align: right;\">\n",
       "      <th></th>\n",
       "      <th>fixed acidity</th>\n",
       "      <th>volatile acidity</th>\n",
       "      <th>citric acid</th>\n",
       "      <th>residual sugar</th>\n",
       "      <th>chlorides</th>\n",
       "      <th>free sulfur dioxide</th>\n",
       "      <th>total sulfur dioxide</th>\n",
       "      <th>density</th>\n",
       "      <th>pH</th>\n",
       "      <th>sulphates</th>\n",
       "      <th>alcohol</th>\n",
       "      <th>quality</th>\n",
       "      <th>type</th>\n",
       "    </tr>\n",
       "  </thead>\n",
       "  <tbody>\n",
       "    <tr>\n",
       "      <th>879</th>\n",
       "      <td>6.9</td>\n",
       "      <td>0.12</td>\n",
       "      <td>0.36</td>\n",
       "      <td>2.2</td>\n",
       "      <td>0.037</td>\n",
       "      <td>18.0</td>\n",
       "      <td>111.0</td>\n",
       "      <td>0.99190</td>\n",
       "      <td>3.41</td>\n",
       "      <td>0.82</td>\n",
       "      <td>11.9</td>\n",
       "      <td>8</td>\n",
       "      <td>white</td>\n",
       "    </tr>\n",
       "    <tr>\n",
       "      <th>3436</th>\n",
       "      <td>6.9</td>\n",
       "      <td>0.24</td>\n",
       "      <td>0.23</td>\n",
       "      <td>7.1</td>\n",
       "      <td>0.041</td>\n",
       "      <td>20.0</td>\n",
       "      <td>97.0</td>\n",
       "      <td>0.99246</td>\n",
       "      <td>3.10</td>\n",
       "      <td>0.85</td>\n",
       "      <td>11.4</td>\n",
       "      <td>6</td>\n",
       "      <td>white</td>\n",
       "    </tr>\n",
       "    <tr>\n",
       "      <th>5086</th>\n",
       "      <td>7.9</td>\n",
       "      <td>0.50</td>\n",
       "      <td>0.33</td>\n",
       "      <td>2.0</td>\n",
       "      <td>0.084</td>\n",
       "      <td>15.0</td>\n",
       "      <td>143.0</td>\n",
       "      <td>0.99680</td>\n",
       "      <td>3.20</td>\n",
       "      <td>0.55</td>\n",
       "      <td>9.5</td>\n",
       "      <td>5</td>\n",
       "      <td>red</td>\n",
       "    </tr>\n",
       "    <tr>\n",
       "      <th>5663</th>\n",
       "      <td>9.2</td>\n",
       "      <td>0.67</td>\n",
       "      <td>0.10</td>\n",
       "      <td>3.0</td>\n",
       "      <td>0.091</td>\n",
       "      <td>12.0</td>\n",
       "      <td>48.0</td>\n",
       "      <td>0.99888</td>\n",
       "      <td>3.31</td>\n",
       "      <td>0.54</td>\n",
       "      <td>9.5</td>\n",
       "      <td>6</td>\n",
       "      <td>red</td>\n",
       "    </tr>\n",
       "    <tr>\n",
       "      <th>4271</th>\n",
       "      <td>6.9</td>\n",
       "      <td>0.42</td>\n",
       "      <td>0.20</td>\n",
       "      <td>15.4</td>\n",
       "      <td>0.043</td>\n",
       "      <td>57.0</td>\n",
       "      <td>201.0</td>\n",
       "      <td>0.99848</td>\n",
       "      <td>3.08</td>\n",
       "      <td>0.54</td>\n",
       "      <td>9.4</td>\n",
       "      <td>5</td>\n",
       "      <td>white</td>\n",
       "    </tr>\n",
       "  </tbody>\n",
       "</table>\n",
       "</div>"
      ],
      "text/plain": [
       "      fixed acidity  volatile acidity  citric acid  residual sugar  chlorides  \\\n",
       "879             6.9              0.12         0.36             2.2      0.037   \n",
       "3436            6.9              0.24         0.23             7.1      0.041   \n",
       "5086            7.9              0.50         0.33             2.0      0.084   \n",
       "5663            9.2              0.67         0.10             3.0      0.091   \n",
       "4271            6.9              0.42         0.20            15.4      0.043   \n",
       "\n",
       "      free sulfur dioxide  total sulfur dioxide  density    pH  sulphates  \\\n",
       "879                  18.0                 111.0  0.99190  3.41       0.82   \n",
       "3436                 20.0                  97.0  0.99246  3.10       0.85   \n",
       "5086                 15.0                 143.0  0.99680  3.20       0.55   \n",
       "5663                 12.0                  48.0  0.99888  3.31       0.54   \n",
       "4271                 57.0                 201.0  0.99848  3.08       0.54   \n",
       "\n",
       "      alcohol  quality   type  \n",
       "879      11.9        8  white  \n",
       "3436     11.4        6  white  \n",
       "5086      9.5        5    red  \n",
       "5663      9.5        6    red  \n",
       "4271      9.4        5  white  "
      ]
     },
     "execution_count": 3,
     "metadata": {},
     "output_type": "execute_result"
    }
   ],
   "source": [
    "data = data_w.assign(type = 'white')\n",
    "\n",
    "data = data.append(data_r.assign(type = 'red'), ignore_index=True)\n",
    "data.sample(5)"
   ]
  },
  {
   "cell_type": "markdown",
   "metadata": {},
   "source": [
    "# Exercise 6.1\n",
    "\n",
    "Show the frecuency table of the quality by type of wine"
   ]
  },
  {
   "cell_type": "code",
   "execution_count": 4,
   "metadata": {},
   "outputs": [
    {
     "data": {
      "text/html": [
       "<div>\n",
       "<style scoped>\n",
       "    .dataframe tbody tr th:only-of-type {\n",
       "        vertical-align: middle;\n",
       "    }\n",
       "\n",
       "    .dataframe tbody tr th {\n",
       "        vertical-align: top;\n",
       "    }\n",
       "\n",
       "    .dataframe thead th {\n",
       "        text-align: right;\n",
       "    }\n",
       "</style>\n",
       "<table border=\"1\" class=\"dataframe\">\n",
       "  <thead>\n",
       "    <tr style=\"text-align: right;\">\n",
       "      <th></th>\n",
       "      <th></th>\n",
       "      <th>quality</th>\n",
       "    </tr>\n",
       "    <tr>\n",
       "      <th>type</th>\n",
       "      <th>quality</th>\n",
       "      <th></th>\n",
       "    </tr>\n",
       "  </thead>\n",
       "  <tbody>\n",
       "    <tr>\n",
       "      <th rowspan=\"6\" valign=\"top\">red</th>\n",
       "      <th>5</th>\n",
       "      <td>681</td>\n",
       "    </tr>\n",
       "    <tr>\n",
       "      <th>6</th>\n",
       "      <td>638</td>\n",
       "    </tr>\n",
       "    <tr>\n",
       "      <th>7</th>\n",
       "      <td>199</td>\n",
       "    </tr>\n",
       "    <tr>\n",
       "      <th>4</th>\n",
       "      <td>53</td>\n",
       "    </tr>\n",
       "    <tr>\n",
       "      <th>8</th>\n",
       "      <td>18</td>\n",
       "    </tr>\n",
       "    <tr>\n",
       "      <th>3</th>\n",
       "      <td>10</td>\n",
       "    </tr>\n",
       "    <tr>\n",
       "      <th rowspan=\"7\" valign=\"top\">white</th>\n",
       "      <th>6</th>\n",
       "      <td>2198</td>\n",
       "    </tr>\n",
       "    <tr>\n",
       "      <th>5</th>\n",
       "      <td>1457</td>\n",
       "    </tr>\n",
       "    <tr>\n",
       "      <th>7</th>\n",
       "      <td>880</td>\n",
       "    </tr>\n",
       "    <tr>\n",
       "      <th>8</th>\n",
       "      <td>175</td>\n",
       "    </tr>\n",
       "    <tr>\n",
       "      <th>4</th>\n",
       "      <td>163</td>\n",
       "    </tr>\n",
       "    <tr>\n",
       "      <th>3</th>\n",
       "      <td>20</td>\n",
       "    </tr>\n",
       "    <tr>\n",
       "      <th>9</th>\n",
       "      <td>5</td>\n",
       "    </tr>\n",
       "  </tbody>\n",
       "</table>\n",
       "</div>"
      ],
      "text/plain": [
       "               quality\n",
       "type  quality         \n",
       "red   5            681\n",
       "      6            638\n",
       "      7            199\n",
       "      4             53\n",
       "      8             18\n",
       "      3             10\n",
       "white 6           2198\n",
       "      5           1457\n",
       "      7            880\n",
       "      8            175\n",
       "      4            163\n",
       "      3             20\n",
       "      9              5"
      ]
     },
     "execution_count": 4,
     "metadata": {},
     "output_type": "execute_result"
    }
   ],
   "source": [
    "tabla_de_frecuencia = pd.DataFrame(data['quality'].groupby(data['type']).value_counts())\n",
    "tabla_de_frecuencia"
   ]
  },
  {
   "cell_type": "markdown",
   "metadata": {},
   "source": [
    "# SVM"
   ]
  },
  {
   "cell_type": "markdown",
   "metadata": {},
   "source": [
    "# Exercise 6.2\n",
    "\n",
    "* Standarized the features (not the quality)\n",
    "* Create a binary target for each type of wine\n",
    "* Create two Linear SVM's for the white and red wines, repectively.\n"
   ]
  },
  {
   "cell_type": "code",
   "execution_count": 5,
   "metadata": {},
   "outputs": [
    {
     "data": {
      "text/plain": [
       "array([6, 5, 7, 8, 4, 3, 9], dtype=int64)"
      ]
     },
     "execution_count": 5,
     "metadata": {},
     "output_type": "execute_result"
    }
   ],
   "source": [
    "data.quality.unique()"
   ]
  },
  {
   "cell_type": "code",
   "execution_count": 6,
   "metadata": {},
   "outputs": [
    {
     "name": "stdout",
     "output_type": "stream",
     "text": [
      "False    5220\n",
      "True     1277\n",
      "Name: quality_dummy, dtype: int64\n"
     ]
    },
    {
     "data": {
      "text/html": [
       "<div>\n",
       "<style scoped>\n",
       "    .dataframe tbody tr th:only-of-type {\n",
       "        vertical-align: middle;\n",
       "    }\n",
       "\n",
       "    .dataframe tbody tr th {\n",
       "        vertical-align: top;\n",
       "    }\n",
       "\n",
       "    .dataframe thead th {\n",
       "        text-align: right;\n",
       "    }\n",
       "</style>\n",
       "<table border=\"1\" class=\"dataframe\">\n",
       "  <thead>\n",
       "    <tr style=\"text-align: right;\">\n",
       "      <th></th>\n",
       "      <th>fixed acidity</th>\n",
       "      <th>volatile acidity</th>\n",
       "      <th>citric acid</th>\n",
       "      <th>residual sugar</th>\n",
       "      <th>chlorides</th>\n",
       "      <th>free sulfur dioxide</th>\n",
       "      <th>total sulfur dioxide</th>\n",
       "      <th>density</th>\n",
       "      <th>pH</th>\n",
       "      <th>sulphates</th>\n",
       "      <th>alcohol</th>\n",
       "      <th>quality</th>\n",
       "      <th>type</th>\n",
       "      <th>quality_dummy</th>\n",
       "    </tr>\n",
       "  </thead>\n",
       "  <tbody>\n",
       "    <tr>\n",
       "      <th>4898</th>\n",
       "      <td>7.4</td>\n",
       "      <td>0.70</td>\n",
       "      <td>0.00</td>\n",
       "      <td>1.9</td>\n",
       "      <td>0.076</td>\n",
       "      <td>11.0</td>\n",
       "      <td>34.0</td>\n",
       "      <td>0.9978</td>\n",
       "      <td>3.51</td>\n",
       "      <td>0.56</td>\n",
       "      <td>9.4</td>\n",
       "      <td>5</td>\n",
       "      <td>red</td>\n",
       "      <td>0</td>\n",
       "    </tr>\n",
       "    <tr>\n",
       "      <th>4899</th>\n",
       "      <td>7.8</td>\n",
       "      <td>0.88</td>\n",
       "      <td>0.00</td>\n",
       "      <td>2.6</td>\n",
       "      <td>0.098</td>\n",
       "      <td>25.0</td>\n",
       "      <td>67.0</td>\n",
       "      <td>0.9968</td>\n",
       "      <td>3.20</td>\n",
       "      <td>0.68</td>\n",
       "      <td>9.8</td>\n",
       "      <td>5</td>\n",
       "      <td>red</td>\n",
       "      <td>0</td>\n",
       "    </tr>\n",
       "    <tr>\n",
       "      <th>4900</th>\n",
       "      <td>7.8</td>\n",
       "      <td>0.76</td>\n",
       "      <td>0.04</td>\n",
       "      <td>2.3</td>\n",
       "      <td>0.092</td>\n",
       "      <td>15.0</td>\n",
       "      <td>54.0</td>\n",
       "      <td>0.9970</td>\n",
       "      <td>3.26</td>\n",
       "      <td>0.65</td>\n",
       "      <td>9.8</td>\n",
       "      <td>5</td>\n",
       "      <td>red</td>\n",
       "      <td>0</td>\n",
       "    </tr>\n",
       "    <tr>\n",
       "      <th>4901</th>\n",
       "      <td>11.2</td>\n",
       "      <td>0.28</td>\n",
       "      <td>0.56</td>\n",
       "      <td>1.9</td>\n",
       "      <td>0.075</td>\n",
       "      <td>17.0</td>\n",
       "      <td>60.0</td>\n",
       "      <td>0.9980</td>\n",
       "      <td>3.16</td>\n",
       "      <td>0.58</td>\n",
       "      <td>9.8</td>\n",
       "      <td>6</td>\n",
       "      <td>red</td>\n",
       "      <td>0</td>\n",
       "    </tr>\n",
       "    <tr>\n",
       "      <th>4902</th>\n",
       "      <td>7.4</td>\n",
       "      <td>0.70</td>\n",
       "      <td>0.00</td>\n",
       "      <td>1.9</td>\n",
       "      <td>0.076</td>\n",
       "      <td>11.0</td>\n",
       "      <td>34.0</td>\n",
       "      <td>0.9978</td>\n",
       "      <td>3.51</td>\n",
       "      <td>0.56</td>\n",
       "      <td>9.4</td>\n",
       "      <td>5</td>\n",
       "      <td>red</td>\n",
       "      <td>0</td>\n",
       "    </tr>\n",
       "  </tbody>\n",
       "</table>\n",
       "</div>"
      ],
      "text/plain": [
       "      fixed acidity  volatile acidity  citric acid  residual sugar  chlorides  \\\n",
       "4898            7.4              0.70         0.00             1.9      0.076   \n",
       "4899            7.8              0.88         0.00             2.6      0.098   \n",
       "4900            7.8              0.76         0.04             2.3      0.092   \n",
       "4901           11.2              0.28         0.56             1.9      0.075   \n",
       "4902            7.4              0.70         0.00             1.9      0.076   \n",
       "\n",
       "      free sulfur dioxide  total sulfur dioxide  density    pH  sulphates  \\\n",
       "4898                 11.0                  34.0   0.9978  3.51       0.56   \n",
       "4899                 25.0                  67.0   0.9968  3.20       0.68   \n",
       "4900                 15.0                  54.0   0.9970  3.26       0.65   \n",
       "4901                 17.0                  60.0   0.9980  3.16       0.58   \n",
       "4902                 11.0                  34.0   0.9978  3.51       0.56   \n",
       "\n",
       "      alcohol  quality type  quality_dummy  \n",
       "4898      9.4        5  red              0  \n",
       "4899      9.8        5  red              0  \n",
       "4900      9.8        5  red              0  \n",
       "4901      9.8        6  red              0  \n",
       "4902      9.4        5  red              0  "
      ]
     },
     "execution_count": 6,
     "metadata": {},
     "output_type": "execute_result"
    }
   ],
   "source": [
    "# Se tomarán sólo como buenos los de calidad mayor a 6\n",
    "data['quality_dummy'] = data['quality'] > 6\n",
    "print(data['quality_dummy'].value_counts())\n",
    "data['quality_dummy'] = data['quality_dummy'].astype(int)\n",
    "data_r = data[data['type'] == 'red']\n",
    "data_w = data[data['type'] == 'white']\n",
    "data_r.head()"
   ]
  },
  {
   "cell_type": "code",
   "execution_count": 7,
   "metadata": {},
   "outputs": [
    {
     "data": {
      "text/html": [
       "<div>\n",
       "<style scoped>\n",
       "    .dataframe tbody tr th:only-of-type {\n",
       "        vertical-align: middle;\n",
       "    }\n",
       "\n",
       "    .dataframe tbody tr th {\n",
       "        vertical-align: top;\n",
       "    }\n",
       "\n",
       "    .dataframe thead th {\n",
       "        text-align: right;\n",
       "    }\n",
       "</style>\n",
       "<table border=\"1\" class=\"dataframe\">\n",
       "  <thead>\n",
       "    <tr style=\"text-align: right;\">\n",
       "      <th></th>\n",
       "      <th>fixed acidity</th>\n",
       "      <th>volatile acidity</th>\n",
       "      <th>citric acid</th>\n",
       "      <th>residual sugar</th>\n",
       "      <th>chlorides</th>\n",
       "      <th>free sulfur dioxide</th>\n",
       "      <th>total sulfur dioxide</th>\n",
       "      <th>density</th>\n",
       "      <th>pH</th>\n",
       "      <th>sulphates</th>\n",
       "      <th>alcohol</th>\n",
       "      <th>quality</th>\n",
       "      <th>type</th>\n",
       "      <th>quality_dummy</th>\n",
       "    </tr>\n",
       "  </thead>\n",
       "  <tbody>\n",
       "    <tr>\n",
       "      <th>0</th>\n",
       "      <td>7.0</td>\n",
       "      <td>0.27</td>\n",
       "      <td>0.36</td>\n",
       "      <td>20.7</td>\n",
       "      <td>0.045</td>\n",
       "      <td>45.0</td>\n",
       "      <td>170.0</td>\n",
       "      <td>1.0010</td>\n",
       "      <td>3.00</td>\n",
       "      <td>0.45</td>\n",
       "      <td>8.8</td>\n",
       "      <td>6</td>\n",
       "      <td>white</td>\n",
       "      <td>0</td>\n",
       "    </tr>\n",
       "    <tr>\n",
       "      <th>1</th>\n",
       "      <td>6.3</td>\n",
       "      <td>0.30</td>\n",
       "      <td>0.34</td>\n",
       "      <td>1.6</td>\n",
       "      <td>0.049</td>\n",
       "      <td>14.0</td>\n",
       "      <td>132.0</td>\n",
       "      <td>0.9940</td>\n",
       "      <td>3.30</td>\n",
       "      <td>0.49</td>\n",
       "      <td>9.5</td>\n",
       "      <td>6</td>\n",
       "      <td>white</td>\n",
       "      <td>0</td>\n",
       "    </tr>\n",
       "    <tr>\n",
       "      <th>2</th>\n",
       "      <td>8.1</td>\n",
       "      <td>0.28</td>\n",
       "      <td>0.40</td>\n",
       "      <td>6.9</td>\n",
       "      <td>0.050</td>\n",
       "      <td>30.0</td>\n",
       "      <td>97.0</td>\n",
       "      <td>0.9951</td>\n",
       "      <td>3.26</td>\n",
       "      <td>0.44</td>\n",
       "      <td>10.1</td>\n",
       "      <td>6</td>\n",
       "      <td>white</td>\n",
       "      <td>0</td>\n",
       "    </tr>\n",
       "    <tr>\n",
       "      <th>3</th>\n",
       "      <td>7.2</td>\n",
       "      <td>0.23</td>\n",
       "      <td>0.32</td>\n",
       "      <td>8.5</td>\n",
       "      <td>0.058</td>\n",
       "      <td>47.0</td>\n",
       "      <td>186.0</td>\n",
       "      <td>0.9956</td>\n",
       "      <td>3.19</td>\n",
       "      <td>0.40</td>\n",
       "      <td>9.9</td>\n",
       "      <td>6</td>\n",
       "      <td>white</td>\n",
       "      <td>0</td>\n",
       "    </tr>\n",
       "    <tr>\n",
       "      <th>4</th>\n",
       "      <td>7.2</td>\n",
       "      <td>0.23</td>\n",
       "      <td>0.32</td>\n",
       "      <td>8.5</td>\n",
       "      <td>0.058</td>\n",
       "      <td>47.0</td>\n",
       "      <td>186.0</td>\n",
       "      <td>0.9956</td>\n",
       "      <td>3.19</td>\n",
       "      <td>0.40</td>\n",
       "      <td>9.9</td>\n",
       "      <td>6</td>\n",
       "      <td>white</td>\n",
       "      <td>0</td>\n",
       "    </tr>\n",
       "  </tbody>\n",
       "</table>\n",
       "</div>"
      ],
      "text/plain": [
       "   fixed acidity  volatile acidity  citric acid  residual sugar  chlorides  \\\n",
       "0            7.0              0.27         0.36            20.7      0.045   \n",
       "1            6.3              0.30         0.34             1.6      0.049   \n",
       "2            8.1              0.28         0.40             6.9      0.050   \n",
       "3            7.2              0.23         0.32             8.5      0.058   \n",
       "4            7.2              0.23         0.32             8.5      0.058   \n",
       "\n",
       "   free sulfur dioxide  total sulfur dioxide  density    pH  sulphates  \\\n",
       "0                 45.0                 170.0   1.0010  3.00       0.45   \n",
       "1                 14.0                 132.0   0.9940  3.30       0.49   \n",
       "2                 30.0                  97.0   0.9951  3.26       0.44   \n",
       "3                 47.0                 186.0   0.9956  3.19       0.40   \n",
       "4                 47.0                 186.0   0.9956  3.19       0.40   \n",
       "\n",
       "   alcohol  quality   type  quality_dummy  \n",
       "0      8.8        6  white              0  \n",
       "1      9.5        6  white              0  \n",
       "2     10.1        6  white              0  \n",
       "3      9.9        6  white              0  \n",
       "4      9.9        6  white              0  "
      ]
     },
     "execution_count": 7,
     "metadata": {},
     "output_type": "execute_result"
    }
   ],
   "source": [
    "data_w.head()"
   ]
  },
  {
   "cell_type": "code",
   "execution_count": 8,
   "metadata": {},
   "outputs": [
    {
     "data": {
      "text/plain": [
       "['fixed acidity',\n",
       " 'volatile acidity',\n",
       " 'citric acid',\n",
       " 'residual sugar',\n",
       " 'chlorides',\n",
       " 'free sulfur dioxide',\n",
       " 'total sulfur dioxide',\n",
       " 'density',\n",
       " 'pH',\n",
       " 'sulphates',\n",
       " 'alcohol']"
      ]
     },
     "execution_count": 8,
     "metadata": {},
     "output_type": "execute_result"
    }
   ],
   "source": [
    "variables = data.columns.values.tolist()\n",
    "variables.remove('quality')\n",
    "variables.remove('quality_dummy')\n",
    "variables.remove('type')\n",
    "\n",
    "variables_y = ['quality','quality_dummy']\n",
    "\n",
    "# Tener claro cuáles serán las X's\n",
    "variables"
   ]
  },
  {
   "cell_type": "code",
   "execution_count": 9,
   "metadata": {},
   "outputs": [],
   "source": [
    "# Dividir X e Y\n",
    "X_w = data_w[variables]\n",
    "y_w = data_w[variables_y]\n",
    "\n",
    "X_r = data_r[variables]\n",
    "y_r = data_r[variables_y]\n",
    "\n",
    "# Aquí para dividir en train y test\n",
    "from sklearn.model_selection import train_test_split\n",
    "X_r_train, X_r_test, y_r_train, y_r_test = train_test_split(X_r, y_r)\n",
    "X_w_train, X_w_test, y_w_train, y_w_test = train_test_split(X_w, y_w)\n",
    "\n",
    "# Normalizar datos\n",
    "from sklearn.preprocessing import StandardScaler\n",
    "scaler = StandardScaler()\n",
    "\n",
    "scaler.fit(X_r_train)\n",
    "scaler.fit(X_w_train)\n",
    "X_w_train_scaled = scaler.transform(X_w_train)\n",
    "X_w_test_scaled = scaler.transform(X_w_test)\n",
    "\n",
    "X_r_train_scaled = scaler.transform(X_r_train)\n",
    "X_r_test_scaled = scaler.transform(X_r_test)"
   ]
  },
  {
   "cell_type": "code",
   "execution_count": 10,
   "metadata": {},
   "outputs": [],
   "source": [
    "from sklearn.svm import SVC # \"Support Vector Classifier\"\n",
    "clf_lin = SVC(kernel='linear', gamma='auto')"
   ]
  },
  {
   "cell_type": "code",
   "execution_count": 11,
   "metadata": {},
   "outputs": [
    {
     "data": {
      "text/plain": [
       "SVC(C=1.0, cache_size=200, class_weight=None, coef0=0.0,\n",
       "  decision_function_shape='ovr', degree=3, gamma='auto', kernel='linear',\n",
       "  max_iter=-1, probability=False, random_state=None, shrinking=True,\n",
       "  tol=0.001, verbose=False)"
      ]
     },
     "execution_count": 11,
     "metadata": {},
     "output_type": "execute_result"
    }
   ],
   "source": [
    "clf_lin.fit(X_r_train_scaled,y_r_train['quality_dummy'])"
   ]
  },
  {
   "cell_type": "code",
   "execution_count": 12,
   "metadata": {},
   "outputs": [],
   "source": [
    "y_r_pred_lin = clf_lin.predict(X_r_test_scaled)"
   ]
  },
  {
   "cell_type": "code",
   "execution_count": 13,
   "metadata": {},
   "outputs": [
    {
     "data": {
      "text/plain": [
       "0.8675"
      ]
     },
     "execution_count": 13,
     "metadata": {},
     "output_type": "execute_result"
    }
   ],
   "source": [
    "from sklearn.metrics import accuracy_score\n",
    "accuracy_score(y_r_test['quality_dummy'], y_r_pred_lin)"
   ]
  },
  {
   "cell_type": "code",
   "execution_count": 14,
   "metadata": {},
   "outputs": [
    {
     "data": {
      "text/plain": [
       "SVC(C=1.0, cache_size=200, class_weight=None, coef0=0.0,\n",
       "  decision_function_shape='ovr', degree=3, gamma='auto', kernel='linear',\n",
       "  max_iter=-1, probability=False, random_state=None, shrinking=True,\n",
       "  tol=0.001, verbose=False)"
      ]
     },
     "execution_count": 14,
     "metadata": {},
     "output_type": "execute_result"
    }
   ],
   "source": [
    "clf_lin.fit(X_w_train_scaled,y_w_train['quality_dummy'])"
   ]
  },
  {
   "cell_type": "code",
   "execution_count": 15,
   "metadata": {},
   "outputs": [],
   "source": [
    "y_w_pred_lin = clf_lin.predict(X_w_test_scaled)"
   ]
  },
  {
   "cell_type": "code",
   "execution_count": 16,
   "metadata": {},
   "outputs": [
    {
     "data": {
      "text/plain": [
       "0.7812244897959184"
      ]
     },
     "execution_count": 16,
     "metadata": {},
     "output_type": "execute_result"
    }
   ],
   "source": [
    "accuracy_score(y_w_test['quality_dummy'], y_w_pred_lin)"
   ]
  },
  {
   "cell_type": "markdown",
   "metadata": {},
   "source": [
    "# Exercise 6.3\n",
    "\n",
    "Test the two SVM's using the different kernels (‘poly’, ‘rbf’, ‘sigmoid’)\n"
   ]
  },
  {
   "cell_type": "code",
   "execution_count": 17,
   "metadata": {},
   "outputs": [],
   "source": [
    "clf_poly = SVC(kernel='poly', gamma='auto')\n",
    "clf_rbf = SVC(kernel='rbf', gamma='auto')\n",
    "clf_sig = SVC(kernel='sigmoid', gamma='auto')"
   ]
  },
  {
   "cell_type": "markdown",
   "metadata": {},
   "source": [
    "### Tipo Red"
   ]
  },
  {
   "cell_type": "code",
   "execution_count": 18,
   "metadata": {},
   "outputs": [
    {
     "data": {
      "text/plain": [
       "SVC(C=1.0, cache_size=200, class_weight=None, coef0=0.0,\n",
       "  decision_function_shape='ovr', degree=3, gamma='auto', kernel='sigmoid',\n",
       "  max_iter=-1, probability=False, random_state=None, shrinking=True,\n",
       "  tol=0.001, verbose=False)"
      ]
     },
     "execution_count": 18,
     "metadata": {},
     "output_type": "execute_result"
    }
   ],
   "source": [
    "clf_poly.fit(X_r_train_scaled, y_r_train['quality_dummy'])\n",
    "clf_rbf.fit(X_r_train_scaled, y_r_train['quality_dummy'])\n",
    "clf_sig.fit(X_r_train_scaled, y_r_train['quality_dummy'])"
   ]
  },
  {
   "cell_type": "code",
   "execution_count": 19,
   "metadata": {},
   "outputs": [],
   "source": [
    "y_r_pred_poly = clf_poly.predict(X_r_test_scaled)\n",
    "y_r_pred_rbf = clf_rbf.predict(X_r_test_scaled)\n",
    "y_r_pred_sig = clf_sig.predict(X_r_test_scaled)"
   ]
  },
  {
   "cell_type": "code",
   "execution_count": 20,
   "metadata": {},
   "outputs": [
    {
     "name": "stdout",
     "output_type": "stream",
     "text": [
      "Accuracy Score para kernel 'poly' es: 0.8775\n",
      "Accuracy Score para kernel 'rbf' es: 0.8925\n",
      "Accuracy Score para kernel 'sig' es: 0.81\n"
     ]
    }
   ],
   "source": [
    "print(f\"Accuracy Score para kernel 'poly' es: {accuracy_score(y_r_test['quality_dummy'], y_r_pred_poly)}\")\n",
    "print(f\"Accuracy Score para kernel 'rbf' es: {accuracy_score(y_r_test['quality_dummy'], y_r_pred_rbf)}\")\n",
    "print(f\"Accuracy Score para kernel 'sig' es: {accuracy_score(y_r_test['quality_dummy'], y_r_pred_sig)}\")"
   ]
  },
  {
   "cell_type": "code",
   "execution_count": 21,
   "metadata": {},
   "outputs": [],
   "source": [
    "# El kernel más adecuado para los vinos tipo red es el rbf"
   ]
  },
  {
   "cell_type": "markdown",
   "metadata": {},
   "source": [
    "### Tipo White"
   ]
  },
  {
   "cell_type": "code",
   "execution_count": 22,
   "metadata": {},
   "outputs": [
    {
     "name": "stdout",
     "output_type": "stream",
     "text": [
      "Accuracy Score para kernel 'poly' es: 0.806530612244898\n",
      "Accuracy Score para kernel 'rbf' es: 0.8171428571428572\n",
      "Accuracy Score para kernel 'sig' es: 0.7387755102040816\n"
     ]
    }
   ],
   "source": [
    "clf_poly.fit(X_w_train_scaled, y_w_train['quality_dummy'])\n",
    "clf_rbf.fit(X_w_train_scaled, y_w_train['quality_dummy'])\n",
    "clf_sig.fit(X_w_train_scaled, y_w_train['quality_dummy'])\n",
    "\n",
    "y_w_pred_poly = clf_poly.predict(X_w_test_scaled)\n",
    "y_w_pred_rbf = clf_rbf.predict(X_w_test_scaled)\n",
    "y_w_pred_sig = clf_sig.predict(X_w_test_scaled)\n",
    "\n",
    "print(f\"Accuracy Score para kernel 'poly' es: {accuracy_score(y_w_test['quality_dummy'], y_w_pred_poly)}\")\n",
    "print(f\"Accuracy Score para kernel 'rbf' es: {accuracy_score(y_w_test['quality_dummy'], y_w_pred_rbf)}\")\n",
    "print(f\"Accuracy Score para kernel 'sig' es: {accuracy_score(y_w_test['quality_dummy'], y_w_pred_sig)}\")"
   ]
  },
  {
   "cell_type": "code",
   "execution_count": 23,
   "metadata": {},
   "outputs": [],
   "source": [
    "# El kernel más adecuado para los vinos tipo white es el rbf"
   ]
  },
  {
   "cell_type": "markdown",
   "metadata": {},
   "source": [
    "# Exercise 6.4\n",
    "Using the best SVM find the parameters that gives the best performance\n",
    "\n",
    "'C': [0.1, 1, 10, 100, 1000], 'gamma': [0.01, 0.001, 0.0001]"
   ]
  },
  {
   "cell_type": "markdown",
   "metadata": {},
   "source": [
    "### Tipo Red"
   ]
  },
  {
   "cell_type": "code",
   "execution_count": 24,
   "metadata": {},
   "outputs": [
    {
     "name": "stdout",
     "output_type": "stream",
     "text": [
      "C           10.0000\n",
      "Gamma        0.0100\n",
      "Accuracy     0.8925\n",
      "Name: 6, dtype: float64\n"
     ]
    }
   ],
   "source": [
    "accuracy = []\n",
    "for c in [0.1, 1, 10, 100, 1000]:\n",
    "    for g in [0.01, 0.001, 0.0001]:\n",
    "        clf_rbf_cg = SVC(kernel='rbf', C=c, gamma=g)\n",
    "        clf_rbf_cg.fit(X_r_train_scaled, y_r_train['quality_dummy'])\n",
    "        y_r_pred_rbf_cg = clf_rbf_cg.predict(X_r_test_scaled)\n",
    "        accuracy.append([c, g, accuracy_score(y_r_test['quality_dummy'], y_r_pred_rbf_cg)])\n",
    "accuracy = pd.DataFrame(accuracy, columns = ['C', 'Gamma', 'Accuracy'])\n",
    "print(accuracy.loc[accuracy['Accuracy'].idxmax()])"
   ]
  },
  {
   "cell_type": "markdown",
   "metadata": {},
   "source": [
    "### Tipo White"
   ]
  },
  {
   "cell_type": "code",
   "execution_count": 25,
   "metadata": {},
   "outputs": [
    {
     "name": "stdout",
     "output_type": "stream",
     "text": [
      "C           100.000000\n",
      "Gamma         0.010000\n",
      "Accuracy      0.817143\n",
      "Name: 9, dtype: float64\n"
     ]
    }
   ],
   "source": [
    "accuracy = []\n",
    "for c in [0.1, 1, 10, 100, 1000]:\n",
    "    for g in [0.01, 0.001, 0.0001]:\n",
    "        clf_rbf_cg = SVC(kernel='rbf', C=c, gamma=g)\n",
    "        clf_rbf_cg.fit(X_w_train_scaled, y_w_train['quality_dummy'])\n",
    "        y_w_pred_rbf_cg = clf_rbf_cg.predict(X_w_test_scaled)\n",
    "        accuracy.append([c, g, accuracy_score(y_w_test['quality_dummy'], y_w_pred_rbf_cg)])\n",
    "accuracy = pd.DataFrame(accuracy, columns = ['C', 'Gamma', 'Accuracy'])\n",
    "print(accuracy.loc[accuracy['Accuracy'].idxmax()])"
   ]
  },
  {
   "cell_type": "markdown",
   "metadata": {},
   "source": [
    "# Exercise 6.5\n",
    "\n",
    "Compare the results with other methods"
   ]
  },
  {
   "cell_type": "code",
   "execution_count": 26,
   "metadata": {},
   "outputs": [],
   "source": [
    "from sklearn.linear_model import LogisticRegression\n",
    "logreg = LogisticRegression(C=1e9, solver='liblinear', multi_class='ovr')\n",
    "logreg_l1 = LogisticRegression(C=0.1, penalty='l1', solver='liblinear', multi_class='ovr')\n",
    "logreg_l2 = LogisticRegression(C=0.1, penalty='l2', solver='liblinear', multi_class='ovr')"
   ]
  },
  {
   "cell_type": "markdown",
   "metadata": {},
   "source": [
    "### Tipo Red"
   ]
  },
  {
   "cell_type": "code",
   "execution_count": 27,
   "metadata": {},
   "outputs": [
    {
     "name": "stdout",
     "output_type": "stream",
     "text": [
      "Accuracy Score para uan regresión logística es: 0.89\n",
      "Accuracy Score para uan regresión logística tipo Lasso es: 0.89\n",
      "Accuracy Score para uan regresión logística truncada es: 0.8925\n",
      "\n",
      "Teniendo en cuenta los resultados, para los vino de tipo red usaría un SVM con kernel = 'rbf' ya que genera un \n",
      "Accuracy Score de 0.89\n",
      "\n"
     ]
    }
   ],
   "source": [
    "logreg.fit(X_r_train_scaled, y_r_train['quality_dummy'])\n",
    "logreg_l1.fit(X_r_train_scaled, y_r_train['quality_dummy'])\n",
    "logreg_l2.fit(X_r_train_scaled, y_r_train['quality_dummy'])\n",
    "\n",
    "y_r_pred_logreg = logreg.predict(X_r_test_scaled)\n",
    "y_r_pred_logreg_l1 = logreg_l1.predict(X_r_test_scaled)\n",
    "y_r_pred_logreg_l2 = logreg_l2.predict(X_r_test_scaled)\n",
    "\n",
    "print(f\"Accuracy Score para uan regresión logística es: {accuracy_score(y_r_test['quality_dummy'], y_r_pred_logreg)}\")\n",
    "print(f\"Accuracy Score para uan regresión logística tipo Lasso es: {accuracy_score(y_r_test['quality_dummy'], y_r_pred_logreg_l1)}\")\n",
    "print(f\"Accuracy Score para uan regresión logística truncada es: {accuracy_score(y_r_test['quality_dummy'], y_r_pred_logreg_l2)}\")\n",
    "\n",
    "print(f'''\n",
    "Teniendo en cuenta los resultados, para los vino de tipo red usaría un SVM con kernel = 'rbf' ya que genera un \n",
    "Accuracy Score de 0.89\n",
    "''')"
   ]
  },
  {
   "cell_type": "markdown",
   "metadata": {},
   "source": [
    "### Tipo White"
   ]
  },
  {
   "cell_type": "code",
   "execution_count": 28,
   "metadata": {},
   "outputs": [
    {
     "name": "stdout",
     "output_type": "stream",
     "text": [
      "Accuracy Score para uan regresión logística es: 0.8122\n",
      "Accuracy Score para uan regresión logística tipo Lasso es: 0.809\n",
      "Accuracy Score para uan regresión logística truncada es: 0.8131\n",
      "\n",
      "Teniendo en cuenta los resultados, para los vino de tipo white usaría un SVM con kernel = 'rbf' ya que genera un \n",
      "Accuracy Score de 0.824\n",
      "\n"
     ]
    }
   ],
   "source": [
    "logreg.fit(X_w_train_scaled, y_w_train['quality_dummy'])\n",
    "logreg_l1.fit(X_w_train_scaled, y_w_train['quality_dummy'])\n",
    "logreg_l2.fit(X_w_train_scaled, y_w_train['quality_dummy'])\n",
    "\n",
    "y_w_pred_logreg = logreg.predict(X_w_test_scaled)\n",
    "y_w_pred_logreg_l1 = logreg_l1.predict(X_w_test_scaled)\n",
    "y_w_pred_logreg_l2 = logreg_l2.predict(X_w_test_scaled)\n",
    "\n",
    "print(f\"Accuracy Score para uan regresión logística es: {round(accuracy_score(y_w_test['quality_dummy'], y_w_pred_logreg),4)}\")\n",
    "print(f\"Accuracy Score para uan regresión logística tipo Lasso es: {round(accuracy_score(y_w_test['quality_dummy'], y_w_pred_logreg_l1),4)}\")\n",
    "print(f\"Accuracy Score para uan regresión logística truncada es: {round(accuracy_score(y_w_test['quality_dummy'], y_w_pred_logreg_l2),4)}\")\n",
    "\n",
    "print(f'''\n",
    "Teniendo en cuenta los resultados, para los vino de tipo white usaría un SVM con kernel = 'rbf' ya que genera un \n",
    "Accuracy Score de 0.824\n",
    "''')"
   ]
  },
  {
   "cell_type": "markdown",
   "metadata": {},
   "source": [
    "# Regularization"
   ]
  },
  {
   "cell_type": "markdown",
   "metadata": {},
   "source": [
    "# Exercise 6.6\n",
    "\n",
    "\n",
    "* Train a linear regression to predict wine quality (Continous)\n",
    "\n",
    "* Analyze the coefficients\n",
    "\n",
    "* Evaluate the RMSE"
   ]
  },
  {
   "cell_type": "code",
   "execution_count": 29,
   "metadata": {},
   "outputs": [],
   "source": [
    "from sklearn.linear_model import LinearRegression\n",
    "linreg = LinearRegression(normalize=False)"
   ]
  },
  {
   "cell_type": "markdown",
   "metadata": {},
   "source": [
    "### Tipo Red"
   ]
  },
  {
   "cell_type": "code",
   "execution_count": 30,
   "metadata": {},
   "outputs": [
    {
     "data": {
      "text/html": [
       "<div>\n",
       "<style scoped>\n",
       "    .dataframe tbody tr th:only-of-type {\n",
       "        vertical-align: middle;\n",
       "    }\n",
       "\n",
       "    .dataframe tbody tr th {\n",
       "        vertical-align: top;\n",
       "    }\n",
       "\n",
       "    .dataframe thead th {\n",
       "        text-align: right;\n",
       "    }\n",
       "</style>\n",
       "<table border=\"1\" class=\"dataframe\">\n",
       "  <thead>\n",
       "    <tr style=\"text-align: right;\">\n",
       "      <th></th>\n",
       "      <th>0</th>\n",
       "      <th>1</th>\n",
       "      <th>2</th>\n",
       "      <th>3</th>\n",
       "      <th>4</th>\n",
       "      <th>5</th>\n",
       "      <th>6</th>\n",
       "      <th>7</th>\n",
       "      <th>8</th>\n",
       "      <th>9</th>\n",
       "      <th>10</th>\n",
       "    </tr>\n",
       "  </thead>\n",
       "  <tbody>\n",
       "    <tr>\n",
       "      <th>Beta</th>\n",
       "      <td>-0.015404</td>\n",
       "      <td>-0.103305</td>\n",
       "      <td>-0.015133</td>\n",
       "      <td>0.038274</td>\n",
       "      <td>-0.037201</td>\n",
       "      <td>0.079775</td>\n",
       "      <td>-0.169505</td>\n",
       "      <td>0.052479</td>\n",
       "      <td>-0.100879</td>\n",
       "      <td>0.097121</td>\n",
       "      <td>0.379539</td>\n",
       "    </tr>\n",
       "  </tbody>\n",
       "</table>\n",
       "</div>"
      ],
      "text/plain": [
       "            0         1         2         3         4         5         6   \\\n",
       "Beta -0.015404 -0.103305 -0.015133  0.038274 -0.037201  0.079775 -0.169505   \n",
       "\n",
       "            7         8         9         10  \n",
       "Beta  0.052479 -0.100879  0.097121  0.379539  "
      ]
     },
     "execution_count": 30,
     "metadata": {},
     "output_type": "execute_result"
    }
   ],
   "source": [
    "linreg.fit(X_r_train_scaled, y_r_train['quality'])\n",
    "\n",
    "coef_linreg_r = pd.DataFrame(linreg.coef_, columns=['Beta'])\n",
    "coef_linreg_r.T"
   ]
  },
  {
   "cell_type": "code",
   "execution_count": 31,
   "metadata": {},
   "outputs": [
    {
     "data": {
      "text/plain": [
       "5.669317719339707"
      ]
     },
     "execution_count": 31,
     "metadata": {},
     "output_type": "execute_result"
    }
   ],
   "source": [
    "linreg.intercept_"
   ]
  },
  {
   "cell_type": "markdown",
   "metadata": {},
   "source": [
    "Los coeficientes son muy pequeños frente al intercepto lo que podría sesgar el análisis."
   ]
  },
  {
   "cell_type": "code",
   "execution_count": 32,
   "metadata": {},
   "outputs": [
    {
     "name": "stdout",
     "output_type": "stream",
     "text": [
      "RMSE: 0.6665619235919926\n"
     ]
    }
   ],
   "source": [
    "y_r_pred_linreg = linreg.predict(X_r_test_scaled)\n",
    "\n",
    "from sklearn import metrics\n",
    "print('RMSE:', np.sqrt(metrics.mean_squared_error(y_r_test['quality'], y_r_pred_linreg)))"
   ]
  },
  {
   "cell_type": "markdown",
   "metadata": {},
   "source": [
    "### Tipo White"
   ]
  },
  {
   "cell_type": "code",
   "execution_count": 33,
   "metadata": {},
   "outputs": [
    {
     "data": {
      "text/html": [
       "<div>\n",
       "<style scoped>\n",
       "    .dataframe tbody tr th:only-of-type {\n",
       "        vertical-align: middle;\n",
       "    }\n",
       "\n",
       "    .dataframe tbody tr th {\n",
       "        vertical-align: top;\n",
       "    }\n",
       "\n",
       "    .dataframe thead th {\n",
       "        text-align: right;\n",
       "    }\n",
       "</style>\n",
       "<table border=\"1\" class=\"dataframe\">\n",
       "  <thead>\n",
       "    <tr style=\"text-align: right;\">\n",
       "      <th></th>\n",
       "      <th>0</th>\n",
       "      <th>1</th>\n",
       "      <th>2</th>\n",
       "      <th>3</th>\n",
       "      <th>4</th>\n",
       "      <th>5</th>\n",
       "      <th>6</th>\n",
       "      <th>7</th>\n",
       "      <th>8</th>\n",
       "      <th>9</th>\n",
       "      <th>10</th>\n",
       "    </tr>\n",
       "  </thead>\n",
       "  <tbody>\n",
       "    <tr>\n",
       "      <th>Beta</th>\n",
       "      <td>0.065848</td>\n",
       "      <td>-0.174214</td>\n",
       "      <td>0.007385</td>\n",
       "      <td>0.429454</td>\n",
       "      <td>-0.005372</td>\n",
       "      <td>0.076625</td>\n",
       "      <td>-0.029241</td>\n",
       "      <td>-0.467087</td>\n",
       "      <td>0.124442</td>\n",
       "      <td>0.079157</td>\n",
       "      <td>0.230011</td>\n",
       "    </tr>\n",
       "  </tbody>\n",
       "</table>\n",
       "</div>"
      ],
      "text/plain": [
       "            0         1         2         3         4         5         6   \\\n",
       "Beta  0.065848 -0.174214  0.007385  0.429454 -0.005372  0.076625 -0.029241   \n",
       "\n",
       "            7         8         9         10  \n",
       "Beta -0.467087  0.124442  0.079157  0.230011  "
      ]
     },
     "execution_count": 33,
     "metadata": {},
     "output_type": "execute_result"
    }
   ],
   "source": [
    "linreg.fit(X_w_train_scaled, y_w_train['quality'])\n",
    "\n",
    "coef_linreg_w = pd.DataFrame(linreg.coef_, columns=['Beta'])\n",
    "coef_linreg_w.T"
   ]
  },
  {
   "cell_type": "code",
   "execution_count": 34,
   "metadata": {},
   "outputs": [
    {
     "data": {
      "text/plain": [
       "5.881840457391785"
      ]
     },
     "execution_count": 34,
     "metadata": {},
     "output_type": "execute_result"
    }
   ],
   "source": [
    "linreg.intercept_"
   ]
  },
  {
   "cell_type": "markdown",
   "metadata": {},
   "source": [
    "Los coeficientes son muy pequeños frente al intercepto lo que podría sesgar el análisis."
   ]
  },
  {
   "cell_type": "code",
   "execution_count": 35,
   "metadata": {},
   "outputs": [
    {
     "name": "stdout",
     "output_type": "stream",
     "text": [
      "RMSE: 0.7827957991035311\n"
     ]
    }
   ],
   "source": [
    "y_w_pred_linreg = linreg.predict(X_w_test_scaled)\n",
    "\n",
    "print('RMSE:', np.sqrt(metrics.mean_squared_error(y_w_test['quality'], y_w_pred_linreg)))"
   ]
  },
  {
   "cell_type": "markdown",
   "metadata": {},
   "source": [
    "# Exercise 6.7\n",
    "\n",
    "* Estimate a ridge regression with alpha equals 0.1 and 1.\n",
    "* Compare the coefficients with the linear regression\n",
    "* Evaluate the RMSE"
   ]
  },
  {
   "cell_type": "code",
   "execution_count": 36,
   "metadata": {},
   "outputs": [],
   "source": [
    "from sklearn.linear_model import Ridge\n",
    "linreg_l2_01 = Ridge(alpha=0.1)\n",
    "linreg_l2_1 = Ridge(alpha=1)"
   ]
  },
  {
   "cell_type": "markdown",
   "metadata": {},
   "source": [
    "### Tipo Red"
   ]
  },
  {
   "cell_type": "code",
   "execution_count": 37,
   "metadata": {},
   "outputs": [
    {
     "data": {
      "text/html": [
       "<div>\n",
       "<style scoped>\n",
       "    .dataframe tbody tr th:only-of-type {\n",
       "        vertical-align: middle;\n",
       "    }\n",
       "\n",
       "    .dataframe tbody tr th {\n",
       "        vertical-align: top;\n",
       "    }\n",
       "\n",
       "    .dataframe thead th {\n",
       "        text-align: right;\n",
       "    }\n",
       "</style>\n",
       "<table border=\"1\" class=\"dataframe\">\n",
       "  <thead>\n",
       "    <tr style=\"text-align: right;\">\n",
       "      <th></th>\n",
       "      <th>0</th>\n",
       "      <th>1</th>\n",
       "      <th>2</th>\n",
       "      <th>3</th>\n",
       "      <th>4</th>\n",
       "      <th>5</th>\n",
       "      <th>6</th>\n",
       "      <th>7</th>\n",
       "      <th>8</th>\n",
       "      <th>9</th>\n",
       "      <th>10</th>\n",
       "    </tr>\n",
       "  </thead>\n",
       "  <tbody>\n",
       "    <tr>\n",
       "      <th>Beta</th>\n",
       "      <td>-0.015315</td>\n",
       "      <td>-0.103302</td>\n",
       "      <td>-0.015127</td>\n",
       "      <td>0.038427</td>\n",
       "      <td>-0.037197</td>\n",
       "      <td>0.079695</td>\n",
       "      <td>-0.169435</td>\n",
       "      <td>0.052187</td>\n",
       "      <td>-0.100764</td>\n",
       "      <td>0.097134</td>\n",
       "      <td>0.379384</td>\n",
       "    </tr>\n",
       "  </tbody>\n",
       "</table>\n",
       "</div>"
      ],
      "text/plain": [
       "            0         1         2         3         4         5         6   \\\n",
       "Beta -0.015315 -0.103302 -0.015127  0.038427 -0.037197  0.079695 -0.169435   \n",
       "\n",
       "            7         8         9         10  \n",
       "Beta  0.052187 -0.100764  0.097134  0.379384  "
      ]
     },
     "execution_count": 37,
     "metadata": {},
     "output_type": "execute_result"
    }
   ],
   "source": [
    "linreg_l2_01.fit(X_r_train_scaled, y_r_train['quality'])\n",
    "linreg_l2_1.fit(X_r_train_scaled, y_r_train['quality'])\n",
    "\n",
    "coef_ridgereg_01_r = pd.DataFrame(linreg_l2_01.coef_, columns = ['Beta'])\n",
    "coef_ridgereg_01_r.T"
   ]
  },
  {
   "cell_type": "code",
   "execution_count": 38,
   "metadata": {},
   "outputs": [
    {
     "data": {
      "text/plain": [
       "False    8\n",
       "True     3\n",
       "Name: Beta, dtype: int64"
      ]
     },
     "execution_count": 38,
     "metadata": {},
     "output_type": "execute_result"
    }
   ],
   "source": [
    "comp_ridgereg_01_linreg_r = pd.DataFrame(coef_linreg_r >= coef_ridgereg_01_r)\n",
    "comp_ridgereg_01_linreg_r.Beta.value_counts()"
   ]
  },
  {
   "cell_type": "code",
   "execution_count": 39,
   "metadata": {},
   "outputs": [
    {
     "data": {
      "text/html": [
       "<div>\n",
       "<style scoped>\n",
       "    .dataframe tbody tr th:only-of-type {\n",
       "        vertical-align: middle;\n",
       "    }\n",
       "\n",
       "    .dataframe tbody tr th {\n",
       "        vertical-align: top;\n",
       "    }\n",
       "\n",
       "    .dataframe thead th {\n",
       "        text-align: right;\n",
       "    }\n",
       "</style>\n",
       "<table border=\"1\" class=\"dataframe\">\n",
       "  <thead>\n",
       "    <tr style=\"text-align: right;\">\n",
       "      <th></th>\n",
       "      <th>0</th>\n",
       "      <th>1</th>\n",
       "      <th>2</th>\n",
       "      <th>3</th>\n",
       "      <th>4</th>\n",
       "      <th>5</th>\n",
       "      <th>6</th>\n",
       "      <th>7</th>\n",
       "      <th>8</th>\n",
       "      <th>9</th>\n",
       "      <th>10</th>\n",
       "    </tr>\n",
       "  </thead>\n",
       "  <tbody>\n",
       "    <tr>\n",
       "      <th>Beta</th>\n",
       "      <td>-0.014538</td>\n",
       "      <td>-0.103277</td>\n",
       "      <td>-0.015067</td>\n",
       "      <td>0.039754</td>\n",
       "      <td>-0.037163</td>\n",
       "      <td>0.078983</td>\n",
       "      <td>-0.16881</td>\n",
       "      <td>0.049625</td>\n",
       "      <td>-0.099742</td>\n",
       "      <td>0.097246</td>\n",
       "      <td>0.378011</td>\n",
       "    </tr>\n",
       "  </tbody>\n",
       "</table>\n",
       "</div>"
      ],
      "text/plain": [
       "            0         1         2         3         4         5        6   \\\n",
       "Beta -0.014538 -0.103277 -0.015067  0.039754 -0.037163  0.078983 -0.16881   \n",
       "\n",
       "            7         8         9         10  \n",
       "Beta  0.049625 -0.099742  0.097246  0.378011  "
      ]
     },
     "execution_count": 39,
     "metadata": {},
     "output_type": "execute_result"
    }
   ],
   "source": [
    "coef_ridgereg_1_r = pd.DataFrame(linreg_l2_1.coef_, columns = ['Beta'])\n",
    "coef_ridgereg_1_r.T"
   ]
  },
  {
   "cell_type": "code",
   "execution_count": 40,
   "metadata": {},
   "outputs": [
    {
     "data": {
      "text/plain": [
       "False    8\n",
       "True     3\n",
       "Name: Beta, dtype: int64"
      ]
     },
     "execution_count": 40,
     "metadata": {},
     "output_type": "execute_result"
    }
   ],
   "source": [
    "comp_ridgereg_1_linreg_r = pd.DataFrame(coef_linreg_r >= coef_ridgereg_1_r)\n",
    "comp_ridgereg_1_linreg_r.Beta.value_counts()"
   ]
  },
  {
   "cell_type": "code",
   "execution_count": 41,
   "metadata": {},
   "outputs": [
    {
     "name": "stdout",
     "output_type": "stream",
     "text": [
      "RMSE con alpha(0.1) = 0.6665471357210262\n",
      "RMSE con alpha(1) = 0.6664172188918969\n"
     ]
    }
   ],
   "source": [
    "y_r_pred_linreg_l2_01 = linreg_l2_01.predict(X_r_test_scaled)\n",
    "y_r_pred_linreg_l2_1 = linreg_l2_1.predict(X_r_test_scaled)\n",
    "\n",
    "print('RMSE con alpha(0.1) =', np.sqrt(metrics.mean_squared_error(y_r_test['quality'], y_r_pred_linreg_l2_01)))\n",
    "print('RMSE con alpha(1) =', np.sqrt(metrics.mean_squared_error(y_r_test['quality'], y_r_pred_linreg_l2_1)))"
   ]
  },
  {
   "cell_type": "markdown",
   "metadata": {},
   "source": [
    "### Tipo White"
   ]
  },
  {
   "cell_type": "code",
   "execution_count": 42,
   "metadata": {},
   "outputs": [
    {
     "data": {
      "text/html": [
       "<div>\n",
       "<style scoped>\n",
       "    .dataframe tbody tr th:only-of-type {\n",
       "        vertical-align: middle;\n",
       "    }\n",
       "\n",
       "    .dataframe tbody tr th {\n",
       "        vertical-align: top;\n",
       "    }\n",
       "\n",
       "    .dataframe thead th {\n",
       "        text-align: right;\n",
       "    }\n",
       "</style>\n",
       "<table border=\"1\" class=\"dataframe\">\n",
       "  <thead>\n",
       "    <tr style=\"text-align: right;\">\n",
       "      <th></th>\n",
       "      <th>0</th>\n",
       "      <th>1</th>\n",
       "      <th>2</th>\n",
       "      <th>3</th>\n",
       "      <th>4</th>\n",
       "      <th>5</th>\n",
       "      <th>6</th>\n",
       "      <th>7</th>\n",
       "      <th>8</th>\n",
       "      <th>9</th>\n",
       "      <th>10</th>\n",
       "    </tr>\n",
       "  </thead>\n",
       "  <tbody>\n",
       "    <tr>\n",
       "      <th>Beta</th>\n",
       "      <td>0.065738</td>\n",
       "      <td>-0.174215</td>\n",
       "      <td>0.007382</td>\n",
       "      <td>0.42913</td>\n",
       "      <td>-0.005396</td>\n",
       "      <td>0.076642</td>\n",
       "      <td>-0.029261</td>\n",
       "      <td>-0.466615</td>\n",
       "      <td>0.124352</td>\n",
       "      <td>0.07913</td>\n",
       "      <td>0.230208</td>\n",
       "    </tr>\n",
       "  </tbody>\n",
       "</table>\n",
       "</div>"
      ],
      "text/plain": [
       "            0         1         2        3         4         5         6   \\\n",
       "Beta  0.065738 -0.174215  0.007382  0.42913 -0.005396  0.076642 -0.029261   \n",
       "\n",
       "            7         8        9         10  \n",
       "Beta -0.466615  0.124352  0.07913  0.230208  "
      ]
     },
     "execution_count": 42,
     "metadata": {},
     "output_type": "execute_result"
    }
   ],
   "source": [
    "linreg_l2_01.fit(X_w_train_scaled, y_w_train['quality'])\n",
    "linreg_l2_1.fit(X_w_train_scaled, y_w_train['quality'])\n",
    "\n",
    "coef_ridgereg_01_w = pd.DataFrame(linreg_l2_01.coef_, columns=['Beta'])\n",
    "coef_ridgereg_01_w.T"
   ]
  },
  {
   "cell_type": "code",
   "execution_count": 43,
   "metadata": {},
   "outputs": [
    {
     "data": {
      "text/plain": [
       "True     8\n",
       "False    3\n",
       "Name: Beta, dtype: int64"
      ]
     },
     "execution_count": 43,
     "metadata": {},
     "output_type": "execute_result"
    }
   ],
   "source": [
    "comp_ridgereg_01_linreg_w = pd.DataFrame(coef_linreg_w >= coef_ridgereg_01_w)\n",
    "comp_ridgereg_01_linreg_w.Beta.value_counts()"
   ]
  },
  {
   "cell_type": "code",
   "execution_count": 44,
   "metadata": {},
   "outputs": [
    {
     "data": {
      "text/html": [
       "<div>\n",
       "<style scoped>\n",
       "    .dataframe tbody tr th:only-of-type {\n",
       "        vertical-align: middle;\n",
       "    }\n",
       "\n",
       "    .dataframe tbody tr th {\n",
       "        vertical-align: top;\n",
       "    }\n",
       "\n",
       "    .dataframe thead th {\n",
       "        text-align: right;\n",
       "    }\n",
       "</style>\n",
       "<table border=\"1\" class=\"dataframe\">\n",
       "  <thead>\n",
       "    <tr style=\"text-align: right;\">\n",
       "      <th></th>\n",
       "      <th>0</th>\n",
       "      <th>1</th>\n",
       "      <th>2</th>\n",
       "      <th>3</th>\n",
       "      <th>4</th>\n",
       "      <th>5</th>\n",
       "      <th>6</th>\n",
       "      <th>7</th>\n",
       "      <th>8</th>\n",
       "      <th>9</th>\n",
       "      <th>10</th>\n",
       "    </tr>\n",
       "  </thead>\n",
       "  <tbody>\n",
       "    <tr>\n",
       "      <th>Beta</th>\n",
       "      <td>0.064762</td>\n",
       "      <td>-0.174227</td>\n",
       "      <td>0.007349</td>\n",
       "      <td>0.426242</td>\n",
       "      <td>-0.005606</td>\n",
       "      <td>0.076799</td>\n",
       "      <td>-0.02944</td>\n",
       "      <td>-0.462418</td>\n",
       "      <td>0.123553</td>\n",
       "      <td>0.078886</td>\n",
       "      <td>0.231963</td>\n",
       "    </tr>\n",
       "  </tbody>\n",
       "</table>\n",
       "</div>"
      ],
      "text/plain": [
       "            0         1         2         3         4         5        6   \\\n",
       "Beta  0.064762 -0.174227  0.007349  0.426242 -0.005606  0.076799 -0.02944   \n",
       "\n",
       "            7         8         9         10  \n",
       "Beta -0.462418  0.123553  0.078886  0.231963  "
      ]
     },
     "execution_count": 44,
     "metadata": {},
     "output_type": "execute_result"
    }
   ],
   "source": [
    "coef_ridgereg_1_w = pd.DataFrame(linreg_l2_1.coef_, columns=['Beta'])\n",
    "coef_ridgereg_1_w.T"
   ]
  },
  {
   "cell_type": "code",
   "execution_count": 45,
   "metadata": {},
   "outputs": [
    {
     "data": {
      "text/plain": [
       "True     8\n",
       "False    3\n",
       "Name: Beta, dtype: int64"
      ]
     },
     "execution_count": 45,
     "metadata": {},
     "output_type": "execute_result"
    }
   ],
   "source": [
    "comp_ridgereg_1_linreg_w = pd.DataFrame(coef_linreg_w >= coef_ridgereg_1_w)\n",
    "comp_ridgereg_1_linreg_w.Beta.value_counts()"
   ]
  },
  {
   "cell_type": "code",
   "execution_count": 46,
   "metadata": {},
   "outputs": [
    {
     "name": "stdout",
     "output_type": "stream",
     "text": [
      "RMSE con alpha(0.1) = 0.7827941851494262\n",
      "RMSE con alpha(1) = 0.7827801696309228\n"
     ]
    }
   ],
   "source": [
    "y_w_pred_linreg_l2_01 = linreg_l2_01.predict(X_w_test_scaled)\n",
    "y_w_pred_linreg_l2_1 = linreg_l2_1.predict(X_w_test_scaled)\n",
    "\n",
    "print('RMSE con alpha(0.1) =', np.sqrt(metrics.mean_squared_error(y_w_test['quality'], y_w_pred_linreg_l2_01)))\n",
    "print('RMSE con alpha(1) =', np.sqrt(metrics.mean_squared_error(y_w_test['quality'], y_w_pred_linreg_l2_1)))"
   ]
  },
  {
   "cell_type": "markdown",
   "metadata": {},
   "source": [
    "Encontramos que para los dos tipos de vino la mayoría de coeficientes son menores a los que se presentan con la regresión lineal, lo que hace que el intercepto tenga aún más fuerza en el análisis y siga sesgando el mismo."
   ]
  },
  {
   "cell_type": "markdown",
   "metadata": {},
   "source": [
    "# Exercise 6.8\n",
    "\n",
    "* Estimate a lasso regression with alpha equals 0.01, 0.1 and 1.\n",
    "* Compare the coefficients with the linear regression\n",
    "* Evaluate the RMSE"
   ]
  },
  {
   "cell_type": "code",
   "execution_count": 47,
   "metadata": {},
   "outputs": [],
   "source": [
    "from sklearn.linear_model import Lasso\n",
    "linreg_l1_001 = Lasso(alpha=0.01)\n",
    "linreg_l1_01 = Lasso(alpha=0.1)\n",
    "linreg_l1_1 = Lasso(alpha=1)"
   ]
  },
  {
   "cell_type": "markdown",
   "metadata": {},
   "source": [
    "### Tipo Red"
   ]
  },
  {
   "cell_type": "code",
   "execution_count": 48,
   "metadata": {},
   "outputs": [
    {
     "data": {
      "text/html": [
       "<div>\n",
       "<style scoped>\n",
       "    .dataframe tbody tr th:only-of-type {\n",
       "        vertical-align: middle;\n",
       "    }\n",
       "\n",
       "    .dataframe tbody tr th {\n",
       "        vertical-align: top;\n",
       "    }\n",
       "\n",
       "    .dataframe thead th {\n",
       "        text-align: right;\n",
       "    }\n",
       "</style>\n",
       "<table border=\"1\" class=\"dataframe\">\n",
       "  <thead>\n",
       "    <tr style=\"text-align: right;\">\n",
       "      <th></th>\n",
       "      <th>0</th>\n",
       "      <th>1</th>\n",
       "      <th>2</th>\n",
       "      <th>3</th>\n",
       "      <th>4</th>\n",
       "      <th>5</th>\n",
       "      <th>6</th>\n",
       "      <th>7</th>\n",
       "      <th>8</th>\n",
       "      <th>9</th>\n",
       "      <th>10</th>\n",
       "    </tr>\n",
       "  </thead>\n",
       "  <tbody>\n",
       "    <tr>\n",
       "      <th>Beta</th>\n",
       "      <td>0.0</td>\n",
       "      <td>-0.100217</td>\n",
       "      <td>-0.0</td>\n",
       "      <td>0.0</td>\n",
       "      <td>-0.032497</td>\n",
       "      <td>0.00835</td>\n",
       "      <td>-0.110644</td>\n",
       "      <td>0.0</td>\n",
       "      <td>-0.057632</td>\n",
       "      <td>0.092902</td>\n",
       "      <td>0.347792</td>\n",
       "    </tr>\n",
       "  </tbody>\n",
       "</table>\n",
       "</div>"
      ],
      "text/plain": [
       "       0         1    2    3         4        5         6    7         8   \\\n",
       "Beta  0.0 -0.100217 -0.0  0.0 -0.032497  0.00835 -0.110644  0.0 -0.057632   \n",
       "\n",
       "            9         10  \n",
       "Beta  0.092902  0.347792  "
      ]
     },
     "execution_count": 48,
     "metadata": {},
     "output_type": "execute_result"
    }
   ],
   "source": [
    "linreg_l1_001.fit(X_r_train_scaled, y_r_train['quality'])\n",
    "linreg_l1_01.fit(X_r_train_scaled, y_r_train['quality'])\n",
    "linreg_l1_1.fit(X_r_train_scaled, y_r_train['quality'])\n",
    "\n",
    "coef_lasso_001_r = pd.DataFrame(linreg_l1_001.coef_, columns=['Beta'])\n",
    "coef_lasso_001_r.T"
   ]
  },
  {
   "cell_type": "code",
   "execution_count": 49,
   "metadata": {},
   "outputs": [
    {
     "data": {
      "text/plain": [
       "False    6\n",
       "True     5\n",
       "Name: Beta, dtype: int64"
      ]
     },
     "execution_count": 49,
     "metadata": {},
     "output_type": "execute_result"
    }
   ],
   "source": [
    "comp_lasso_001_linreg_r = pd.DataFrame(coef_linreg_r >= coef_lasso_001_r)\n",
    "comp_lasso_001_linreg_r.Beta.value_counts()"
   ]
  },
  {
   "cell_type": "code",
   "execution_count": 50,
   "metadata": {},
   "outputs": [
    {
     "data": {
      "text/html": [
       "<div>\n",
       "<style scoped>\n",
       "    .dataframe tbody tr th:only-of-type {\n",
       "        vertical-align: middle;\n",
       "    }\n",
       "\n",
       "    .dataframe tbody tr th {\n",
       "        vertical-align: top;\n",
       "    }\n",
       "\n",
       "    .dataframe thead th {\n",
       "        text-align: right;\n",
       "    }\n",
       "</style>\n",
       "<table border=\"1\" class=\"dataframe\">\n",
       "  <thead>\n",
       "    <tr style=\"text-align: right;\">\n",
       "      <th></th>\n",
       "      <th>0</th>\n",
       "      <th>1</th>\n",
       "      <th>2</th>\n",
       "      <th>3</th>\n",
       "      <th>4</th>\n",
       "      <th>5</th>\n",
       "      <th>6</th>\n",
       "      <th>7</th>\n",
       "      <th>8</th>\n",
       "      <th>9</th>\n",
       "      <th>10</th>\n",
       "    </tr>\n",
       "  </thead>\n",
       "  <tbody>\n",
       "    <tr>\n",
       "      <th>Beta</th>\n",
       "      <td>0.005032</td>\n",
       "      <td>-0.101742</td>\n",
       "      <td>0.0</td>\n",
       "      <td>0.0</td>\n",
       "      <td>-0.00474</td>\n",
       "      <td>-0.0</td>\n",
       "      <td>-0.0</td>\n",
       "      <td>-0.0</td>\n",
       "      <td>-0.0</td>\n",
       "      <td>0.047711</td>\n",
       "      <td>0.257034</td>\n",
       "    </tr>\n",
       "  </tbody>\n",
       "</table>\n",
       "</div>"
      ],
      "text/plain": [
       "            0         1    2    3        4    5    6    7    8         9   \\\n",
       "Beta  0.005032 -0.101742  0.0  0.0 -0.00474 -0.0 -0.0 -0.0 -0.0  0.047711   \n",
       "\n",
       "            10  \n",
       "Beta  0.257034  "
      ]
     },
     "execution_count": 50,
     "metadata": {},
     "output_type": "execute_result"
    }
   ],
   "source": [
    "coef_lasso_01_r = pd.DataFrame(linreg_l1_01.coef_, columns=['Beta'])\n",
    "coef_lasso_01_r.T"
   ]
  },
  {
   "cell_type": "code",
   "execution_count": 51,
   "metadata": {},
   "outputs": [
    {
     "data": {
      "text/plain": [
       "False    6\n",
       "True     5\n",
       "Name: Beta, dtype: int64"
      ]
     },
     "execution_count": 51,
     "metadata": {},
     "output_type": "execute_result"
    }
   ],
   "source": [
    "comp_lasso_01_linreg_r = pd.DataFrame(coef_linreg_r >= coef_lasso_01_r)\n",
    "comp_lasso_01_linreg_r.Beta.value_counts()"
   ]
  },
  {
   "cell_type": "code",
   "execution_count": 52,
   "metadata": {},
   "outputs": [
    {
     "data": {
      "text/html": [
       "<div>\n",
       "<style scoped>\n",
       "    .dataframe tbody tr th:only-of-type {\n",
       "        vertical-align: middle;\n",
       "    }\n",
       "\n",
       "    .dataframe tbody tr th {\n",
       "        vertical-align: top;\n",
       "    }\n",
       "\n",
       "    .dataframe thead th {\n",
       "        text-align: right;\n",
       "    }\n",
       "</style>\n",
       "<table border=\"1\" class=\"dataframe\">\n",
       "  <thead>\n",
       "    <tr style=\"text-align: right;\">\n",
       "      <th></th>\n",
       "      <th>0</th>\n",
       "      <th>1</th>\n",
       "      <th>2</th>\n",
       "      <th>3</th>\n",
       "      <th>4</th>\n",
       "      <th>5</th>\n",
       "      <th>6</th>\n",
       "      <th>7</th>\n",
       "      <th>8</th>\n",
       "      <th>9</th>\n",
       "      <th>10</th>\n",
       "    </tr>\n",
       "  </thead>\n",
       "  <tbody>\n",
       "    <tr>\n",
       "      <th>Beta</th>\n",
       "      <td>0.0</td>\n",
       "      <td>-0.0</td>\n",
       "      <td>0.0</td>\n",
       "      <td>0.0</td>\n",
       "      <td>-0.0</td>\n",
       "      <td>-0.0</td>\n",
       "      <td>-0.0</td>\n",
       "      <td>-0.0</td>\n",
       "      <td>-0.0</td>\n",
       "      <td>0.0</td>\n",
       "      <td>0.0</td>\n",
       "    </tr>\n",
       "  </tbody>\n",
       "</table>\n",
       "</div>"
      ],
      "text/plain": [
       "       0    1    2    3    4    5    6    7    8    9    10\n",
       "Beta  0.0 -0.0  0.0  0.0 -0.0 -0.0 -0.0 -0.0 -0.0  0.0  0.0"
      ]
     },
     "execution_count": 52,
     "metadata": {},
     "output_type": "execute_result"
    }
   ],
   "source": [
    "coef_lasso_1_r = pd.DataFrame(linreg_l1_1.coef_, columns=['Beta'])\n",
    "coef_lasso_1_r.T"
   ]
  },
  {
   "cell_type": "code",
   "execution_count": 53,
   "metadata": {},
   "outputs": [
    {
     "data": {
      "text/plain": [
       "False    6\n",
       "True     5\n",
       "Name: Beta, dtype: int64"
      ]
     },
     "execution_count": 53,
     "metadata": {},
     "output_type": "execute_result"
    }
   ],
   "source": [
    "comp_lasso_1_linreg_r = pd.DataFrame(coef_linreg_r >= coef_lasso_1_r)\n",
    "comp_lasso_1_linreg_r.Beta.value_counts()"
   ]
  },
  {
   "cell_type": "code",
   "execution_count": 54,
   "metadata": {},
   "outputs": [
    {
     "name": "stdout",
     "output_type": "stream",
     "text": [
      "RMSE con alpha(0.01) = 0.6649019129040484\n",
      "RMSE con alpha(0.1) = 0.6834522262176693\n",
      "RMSE con alpha(1) = 0.8280619786294363\n"
     ]
    }
   ],
   "source": [
    "y_r_pred_linreg_l1_001 = linreg_l1_001.predict(X_r_test_scaled)\n",
    "y_r_pred_linreg_l1_01 = linreg_l1_01.predict(X_r_test_scaled)\n",
    "y_r_pred_linreg_l1_1 = linreg_l1_1.predict(X_r_test_scaled)\n",
    "\n",
    "print('RMSE con alpha(0.01) =', np.sqrt(metrics.mean_squared_error(y_r_test['quality'], y_r_pred_linreg_l1_001)))\n",
    "print('RMSE con alpha(0.1) =', np.sqrt(metrics.mean_squared_error(y_r_test['quality'], y_r_pred_linreg_l1_01)))\n",
    "print('RMSE con alpha(1) =', np.sqrt(metrics.mean_squared_error(y_r_test['quality'], y_r_pred_linreg_l1_1)))"
   ]
  },
  {
   "cell_type": "markdown",
   "metadata": {},
   "source": [
    "### Tipo White"
   ]
  },
  {
   "cell_type": "code",
   "execution_count": 55,
   "metadata": {},
   "outputs": [
    {
     "data": {
      "text/html": [
       "<div>\n",
       "<style scoped>\n",
       "    .dataframe tbody tr th:only-of-type {\n",
       "        vertical-align: middle;\n",
       "    }\n",
       "\n",
       "    .dataframe tbody tr th {\n",
       "        vertical-align: top;\n",
       "    }\n",
       "\n",
       "    .dataframe thead th {\n",
       "        text-align: right;\n",
       "    }\n",
       "</style>\n",
       "<table border=\"1\" class=\"dataframe\">\n",
       "  <thead>\n",
       "    <tr style=\"text-align: right;\">\n",
       "      <th></th>\n",
       "      <th>0</th>\n",
       "      <th>1</th>\n",
       "      <th>2</th>\n",
       "      <th>3</th>\n",
       "      <th>4</th>\n",
       "      <th>5</th>\n",
       "      <th>6</th>\n",
       "      <th>7</th>\n",
       "      <th>8</th>\n",
       "      <th>9</th>\n",
       "      <th>10</th>\n",
       "    </tr>\n",
       "  </thead>\n",
       "  <tbody>\n",
       "    <tr>\n",
       "      <th>Beta</th>\n",
       "      <td>-0.0</td>\n",
       "      <td>-0.173391</td>\n",
       "      <td>0.0</td>\n",
       "      <td>0.217835</td>\n",
       "      <td>-0.012763</td>\n",
       "      <td>0.066323</td>\n",
       "      <td>-0.016237</td>\n",
       "      <td>-0.172053</td>\n",
       "      <td>0.061155</td>\n",
       "      <td>0.052198</td>\n",
       "      <td>0.353043</td>\n",
       "    </tr>\n",
       "  </tbody>\n",
       "</table>\n",
       "</div>"
      ],
      "text/plain": [
       "       0         1    2         3         4         5         6         7   \\\n",
       "Beta -0.0 -0.173391  0.0  0.217835 -0.012763  0.066323 -0.016237 -0.172053   \n",
       "\n",
       "            8         9         10  \n",
       "Beta  0.061155  0.052198  0.353043  "
      ]
     },
     "execution_count": 55,
     "metadata": {},
     "output_type": "execute_result"
    }
   ],
   "source": [
    "linreg_l1_001.fit(X_w_train_scaled, y_w_train['quality'])\n",
    "linreg_l1_01.fit(X_w_train_scaled, y_w_train['quality'])\n",
    "linreg_l1_1.fit(X_w_train_scaled, y_w_train['quality'])\n",
    "\n",
    "coef_lasso_001_w = pd.DataFrame(linreg_l1_001.coef_, columns=['Beta'])\n",
    "coef_lasso_001_w.T"
   ]
  },
  {
   "cell_type": "code",
   "execution_count": 56,
   "metadata": {},
   "outputs": [
    {
     "data": {
      "text/plain": [
       "True     7\n",
       "False    4\n",
       "Name: Beta, dtype: int64"
      ]
     },
     "execution_count": 56,
     "metadata": {},
     "output_type": "execute_result"
    }
   ],
   "source": [
    "comp_lasso_001_linreg_w = pd.DataFrame(coef_linreg_w >= coef_lasso_001_w)\n",
    "comp_lasso_001_linreg_w.Beta.value_counts()"
   ]
  },
  {
   "cell_type": "code",
   "execution_count": 57,
   "metadata": {},
   "outputs": [
    {
     "data": {
      "text/html": [
       "<div>\n",
       "<style scoped>\n",
       "    .dataframe tbody tr th:only-of-type {\n",
       "        vertical-align: middle;\n",
       "    }\n",
       "\n",
       "    .dataframe tbody tr th {\n",
       "        vertical-align: top;\n",
       "    }\n",
       "\n",
       "    .dataframe thead th {\n",
       "        text-align: right;\n",
       "    }\n",
       "</style>\n",
       "<table border=\"1\" class=\"dataframe\">\n",
       "  <thead>\n",
       "    <tr style=\"text-align: right;\">\n",
       "      <th></th>\n",
       "      <th>0</th>\n",
       "      <th>1</th>\n",
       "      <th>2</th>\n",
       "      <th>3</th>\n",
       "      <th>4</th>\n",
       "      <th>5</th>\n",
       "      <th>6</th>\n",
       "      <th>7</th>\n",
       "      <th>8</th>\n",
       "      <th>9</th>\n",
       "      <th>10</th>\n",
       "    </tr>\n",
       "  </thead>\n",
       "  <tbody>\n",
       "    <tr>\n",
       "      <th>Beta</th>\n",
       "      <td>-0.0</td>\n",
       "      <td>-0.079922</td>\n",
       "      <td>0.0</td>\n",
       "      <td>0.0</td>\n",
       "      <td>-0.0</td>\n",
       "      <td>0.0</td>\n",
       "      <td>-0.0</td>\n",
       "      <td>-0.0</td>\n",
       "      <td>0.0</td>\n",
       "      <td>0.0</td>\n",
       "      <td>0.295375</td>\n",
       "    </tr>\n",
       "  </tbody>\n",
       "</table>\n",
       "</div>"
      ],
      "text/plain": [
       "       0         1    2    3    4    5    6    7    8    9         10\n",
       "Beta -0.0 -0.079922  0.0  0.0 -0.0  0.0 -0.0 -0.0  0.0  0.0  0.295375"
      ]
     },
     "execution_count": 57,
     "metadata": {},
     "output_type": "execute_result"
    }
   ],
   "source": [
    "coef_lasso_01_w = pd.DataFrame(linreg_l1_01.coef_, columns=['Beta'])\n",
    "coef_lasso_01_w.T"
   ]
  },
  {
   "cell_type": "code",
   "execution_count": 58,
   "metadata": {},
   "outputs": [
    {
     "data": {
      "text/plain": [
       "True     6\n",
       "False    5\n",
       "Name: Beta, dtype: int64"
      ]
     },
     "execution_count": 58,
     "metadata": {},
     "output_type": "execute_result"
    }
   ],
   "source": [
    "comp_lasso_01_linreg_w = pd.DataFrame(coef_linreg_w >= coef_lasso_01_w)\n",
    "comp_lasso_01_linreg_w.Beta.value_counts()"
   ]
  },
  {
   "cell_type": "code",
   "execution_count": 59,
   "metadata": {},
   "outputs": [
    {
     "data": {
      "text/html": [
       "<div>\n",
       "<style scoped>\n",
       "    .dataframe tbody tr th:only-of-type {\n",
       "        vertical-align: middle;\n",
       "    }\n",
       "\n",
       "    .dataframe tbody tr th {\n",
       "        vertical-align: top;\n",
       "    }\n",
       "\n",
       "    .dataframe thead th {\n",
       "        text-align: right;\n",
       "    }\n",
       "</style>\n",
       "<table border=\"1\" class=\"dataframe\">\n",
       "  <thead>\n",
       "    <tr style=\"text-align: right;\">\n",
       "      <th></th>\n",
       "      <th>0</th>\n",
       "      <th>1</th>\n",
       "      <th>2</th>\n",
       "      <th>3</th>\n",
       "      <th>4</th>\n",
       "      <th>5</th>\n",
       "      <th>6</th>\n",
       "      <th>7</th>\n",
       "      <th>8</th>\n",
       "      <th>9</th>\n",
       "      <th>10</th>\n",
       "    </tr>\n",
       "  </thead>\n",
       "  <tbody>\n",
       "    <tr>\n",
       "      <th>Beta</th>\n",
       "      <td>-0.0</td>\n",
       "      <td>-0.0</td>\n",
       "      <td>-0.0</td>\n",
       "      <td>-0.0</td>\n",
       "      <td>-0.0</td>\n",
       "      <td>0.0</td>\n",
       "      <td>-0.0</td>\n",
       "      <td>-0.0</td>\n",
       "      <td>0.0</td>\n",
       "      <td>0.0</td>\n",
       "      <td>0.0</td>\n",
       "    </tr>\n",
       "  </tbody>\n",
       "</table>\n",
       "</div>"
      ],
      "text/plain": [
       "       0    1    2    3    4    5    6    7    8    9    10\n",
       "Beta -0.0 -0.0 -0.0 -0.0 -0.0  0.0 -0.0 -0.0  0.0  0.0  0.0"
      ]
     },
     "execution_count": 59,
     "metadata": {},
     "output_type": "execute_result"
    }
   ],
   "source": [
    "coef_lasso_1_w = pd.DataFrame(linreg_l1_1.coef_, columns=['Beta'])\n",
    "coef_lasso_1_w.T"
   ]
  },
  {
   "cell_type": "code",
   "execution_count": 60,
   "metadata": {},
   "outputs": [
    {
     "data": {
      "text/plain": [
       "True     7\n",
       "False    4\n",
       "Name: Beta, dtype: int64"
      ]
     },
     "execution_count": 60,
     "metadata": {},
     "output_type": "execute_result"
    }
   ],
   "source": [
    "comp_lasso_1_linreg_w = pd.DataFrame(coef_linreg_w >= coef_lasso_1_w)\n",
    "comp_lasso_1_linreg_w.Beta.value_counts()"
   ]
  },
  {
   "cell_type": "code",
   "execution_count": 61,
   "metadata": {},
   "outputs": [
    {
     "name": "stdout",
     "output_type": "stream",
     "text": [
      "RMSE con alpha(0.01) = 0.782051406408641\n",
      "RMSE con alpha(0.1) = 0.811928779315237\n",
      "RMSE con alpha(1) = 0.9072707333821783\n"
     ]
    }
   ],
   "source": [
    "y_w_pred_linreg_l1_001 = linreg_l1_001.predict(X_w_test_scaled)\n",
    "y_w_pred_linreg_l1_01 = linreg_l1_01.predict(X_w_test_scaled)\n",
    "y_w_pred_linreg_l1_1 = linreg_l1_1.predict(X_w_test_scaled)\n",
    "\n",
    "print('RMSE con alpha(0.01) =', np.sqrt(metrics.mean_squared_error(y_w_test['quality'], y_w_pred_linreg_l1_001)))\n",
    "print('RMSE con alpha(0.1) =', np.sqrt(metrics.mean_squared_error(y_w_test['quality'], y_w_pred_linreg_l1_01)))\n",
    "print('RMSE con alpha(1) =', np.sqrt(metrics.mean_squared_error(y_w_test['quality'], y_w_pred_linreg_l1_1)))"
   ]
  },
  {
   "cell_type": "markdown",
   "metadata": {},
   "source": [
    "Al igual que con la regresión tipo Ridge, encontramos que para los dos tipos de vino la mayoría de coeficientes son menores a los que se presentan con la regresión lineal, lo que hace que el intercepto tenga aún más fuerza en el análisis y siga sesgando el mismo."
   ]
  },
  {
   "cell_type": "markdown",
   "metadata": {},
   "source": [
    "# Exercise 6.9\n",
    "\n",
    "* Create a binary target\n",
    "\n",
    "* Train a logistic regression to predict wine quality (binary)\n",
    "\n",
    "* Analyze the coefficients\n",
    "\n",
    "* Evaluate the f1score"
   ]
  },
  {
   "cell_type": "code",
   "execution_count": 62,
   "metadata": {},
   "outputs": [],
   "source": [
    "from sklearn.linear_model import LogisticRegression\n",
    "logreg = LogisticRegression(C=1e9, solver='liblinear', multi_class='ovr')"
   ]
  },
  {
   "cell_type": "markdown",
   "metadata": {},
   "source": [
    "### Tipo Red"
   ]
  },
  {
   "cell_type": "code",
   "execution_count": 63,
   "metadata": {},
   "outputs": [
    {
     "data": {
      "text/html": [
       "<div>\n",
       "<style scoped>\n",
       "    .dataframe tbody tr th:only-of-type {\n",
       "        vertical-align: middle;\n",
       "    }\n",
       "\n",
       "    .dataframe tbody tr th {\n",
       "        vertical-align: top;\n",
       "    }\n",
       "\n",
       "    .dataframe thead th {\n",
       "        text-align: right;\n",
       "    }\n",
       "</style>\n",
       "<table border=\"1\" class=\"dataframe\">\n",
       "  <thead>\n",
       "    <tr style=\"text-align: right;\">\n",
       "      <th></th>\n",
       "      <th>0</th>\n",
       "      <th>1</th>\n",
       "      <th>2</th>\n",
       "      <th>3</th>\n",
       "      <th>4</th>\n",
       "      <th>5</th>\n",
       "      <th>6</th>\n",
       "      <th>7</th>\n",
       "      <th>8</th>\n",
       "      <th>9</th>\n",
       "      <th>10</th>\n",
       "    </tr>\n",
       "  </thead>\n",
       "  <tbody>\n",
       "    <tr>\n",
       "      <th>Beta</th>\n",
       "      <td>0.138811</td>\n",
       "      <td>-0.278299</td>\n",
       "      <td>0.100696</td>\n",
       "      <td>0.847051</td>\n",
       "      <td>-0.183551</td>\n",
       "      <td>0.23218</td>\n",
       "      <td>-0.739228</td>\n",
       "      <td>-0.431471</td>\n",
       "      <td>-0.003492</td>\n",
       "      <td>0.365485</td>\n",
       "      <td>0.979307</td>\n",
       "    </tr>\n",
       "  </tbody>\n",
       "</table>\n",
       "</div>"
      ],
      "text/plain": [
       "            0         1         2         3         4        5         6   \\\n",
       "Beta  0.138811 -0.278299  0.100696  0.847051 -0.183551  0.23218 -0.739228   \n",
       "\n",
       "            7         8         9         10  \n",
       "Beta -0.431471 -0.003492  0.365485  0.979307  "
      ]
     },
     "execution_count": 63,
     "metadata": {},
     "output_type": "execute_result"
    }
   ],
   "source": [
    "logreg.fit(X_r_train_scaled, y_r_train['quality_dummy'])\n",
    "\n",
    "coef_logreg_r = pd.DataFrame(logreg.coef_, index=['Beta'])\n",
    "coef_logreg_r"
   ]
  },
  {
   "cell_type": "code",
   "execution_count": 64,
   "metadata": {},
   "outputs": [
    {
     "data": {
      "text/plain": [
       "0.4761904761904762"
      ]
     },
     "execution_count": 64,
     "metadata": {},
     "output_type": "execute_result"
    }
   ],
   "source": [
    "y_r_pred_logreg = logreg.predict(X_r_test_scaled)\n",
    "\n",
    "from sklearn.metrics import f1_score\n",
    "\n",
    "f1_score(y_r_test['quality_dummy'], y_r_pred_logreg)"
   ]
  },
  {
   "cell_type": "markdown",
   "metadata": {},
   "source": [
    "### Tipo White"
   ]
  },
  {
   "cell_type": "code",
   "execution_count": 65,
   "metadata": {},
   "outputs": [
    {
     "data": {
      "text/html": [
       "<div>\n",
       "<style scoped>\n",
       "    .dataframe tbody tr th:only-of-type {\n",
       "        vertical-align: middle;\n",
       "    }\n",
       "\n",
       "    .dataframe tbody tr th {\n",
       "        vertical-align: top;\n",
       "    }\n",
       "\n",
       "    .dataframe thead th {\n",
       "        text-align: right;\n",
       "    }\n",
       "</style>\n",
       "<table border=\"1\" class=\"dataframe\">\n",
       "  <thead>\n",
       "    <tr style=\"text-align: right;\">\n",
       "      <th></th>\n",
       "      <th>0</th>\n",
       "      <th>1</th>\n",
       "      <th>2</th>\n",
       "      <th>3</th>\n",
       "      <th>4</th>\n",
       "      <th>5</th>\n",
       "      <th>6</th>\n",
       "      <th>7</th>\n",
       "      <th>8</th>\n",
       "      <th>9</th>\n",
       "      <th>10</th>\n",
       "    </tr>\n",
       "  </thead>\n",
       "  <tbody>\n",
       "    <tr>\n",
       "      <th>Beta</th>\n",
       "      <td>0.513332</td>\n",
       "      <td>-0.339762</td>\n",
       "      <td>-0.054728</td>\n",
       "      <td>1.65522</td>\n",
       "      <td>-0.252555</td>\n",
       "      <td>0.171852</td>\n",
       "      <td>-0.035274</td>\n",
       "      <td>-2.264085</td>\n",
       "      <td>0.555222</td>\n",
       "      <td>0.277077</td>\n",
       "      <td>0.030405</td>\n",
       "    </tr>\n",
       "  </tbody>\n",
       "</table>\n",
       "</div>"
      ],
      "text/plain": [
       "            0         1         2        3         4         5         6   \\\n",
       "Beta  0.513332 -0.339762 -0.054728  1.65522 -0.252555  0.171852 -0.035274   \n",
       "\n",
       "            7         8         9         10  \n",
       "Beta -2.264085  0.555222  0.277077  0.030405  "
      ]
     },
     "execution_count": 65,
     "metadata": {},
     "output_type": "execute_result"
    }
   ],
   "source": [
    "logreg.fit(X_w_train_scaled, y_w_train['quality_dummy'])\n",
    "\n",
    "coef_logreg_w = pd.DataFrame(logreg.coef_, index=['Beta'])\n",
    "coef_logreg_w"
   ]
  },
  {
   "cell_type": "code",
   "execution_count": 66,
   "metadata": {},
   "outputs": [
    {
     "data": {
      "text/plain": [
       "0.4191919191919192"
      ]
     },
     "execution_count": 66,
     "metadata": {},
     "output_type": "execute_result"
    }
   ],
   "source": [
    "y_w_pred_logreg = logreg.predict(X_w_test_scaled)\n",
    "\n",
    "f1_score(y_w_test['quality_dummy'], y_w_pred_logreg)"
   ]
  },
  {
   "cell_type": "markdown",
   "metadata": {},
   "source": [
    "Para los dos tipos de vino encontramos un F1_Score inferior a 0.50, lo que nos dice que ni siquiera la mitad de las predicciones desarrolladas por medio de estos modelos serían acertadas; siendo mejor el modelo de los vinos tipo White"
   ]
  },
  {
   "cell_type": "markdown",
   "metadata": {},
   "source": [
    "# Exercise 6.10\n",
    "\n",
    "* Estimate a regularized logistic regression using:\n",
    "* C = 0.01, 0.1 & 1.0\n",
    "* penalty = ['l1, 'l2']\n",
    "* Compare the coefficients and the f1score"
   ]
  },
  {
   "cell_type": "code",
   "execution_count": 67,
   "metadata": {},
   "outputs": [],
   "source": [
    "score = []\n",
    "def logreg_fun(X_train, y_train, X_test, y_test):\n",
    "    for p in ['l1', 'l2']:\n",
    "        for c in [0.01, 0.1, 1.0]:\n",
    "            logreg = LogisticRegression(C=c, penalty=p, solver='liblinear', multi_class='ovr')\n",
    "            logreg.fit(X_train, y_train)\n",
    "            y_pred_logreg = logreg.predict(X_test)\n",
    "            score.append([p, c, f1_score(y_test, y_pred_logreg)])\n",
    "# score = pd.DataFrame(score, columns=['Penalty', 'C', 'F1_Score'])\n",
    "# print(score.loc[score['F1_Score'].idxmax()])"
   ]
  },
  {
   "cell_type": "markdown",
   "metadata": {},
   "source": [
    "### Tipo Red"
   ]
  },
  {
   "cell_type": "code",
   "execution_count": 68,
   "metadata": {},
   "outputs": [
    {
     "name": "stdout",
     "output_type": "stream",
     "text": [
      "Penalty           l2\n",
      "C                0.1\n",
      "F1_Score    0.494118\n",
      "Name: 4, dtype: object\n"
     ]
    }
   ],
   "source": [
    "score = []\n",
    "logreg_fun(X_r_train_scaled, y_r_train['quality_dummy'], X_r_test_scaled, y_r_test['quality_dummy'])\n",
    "score = pd.DataFrame(score, columns=['Penalty', 'C', 'F1_Score'])\n",
    "print(score.loc[score['F1_Score'].idxmax()])"
   ]
  },
  {
   "cell_type": "markdown",
   "metadata": {},
   "source": [
    "### Tipo White"
   ]
  },
  {
   "cell_type": "code",
   "execution_count": 69,
   "metadata": {},
   "outputs": [
    {
     "name": "stdout",
     "output_type": "stream",
     "text": [
      "Penalty           l1\n",
      "C                  1\n",
      "F1_Score    0.412214\n",
      "Name: 2, dtype: object\n"
     ]
    }
   ],
   "source": [
    "score = []\n",
    "logreg_fun(X_w_train_scaled, y_w_train['quality_dummy'], X_w_test_scaled, y_w_test['quality_dummy'])\n",
    "score = pd.DataFrame(score, columns=['Penalty', 'C', 'F1_Score'])\n",
    "print(score.loc[score['F1_Score'].idxmax()])"
   ]
  },
  {
   "cell_type": "markdown",
   "metadata": {},
   "source": [
    "Ajustando las regresiones logísticas con los penalties encontramos un mejor desempeño del modelo para el tipo de vino Red, donde su F1_Score asciende a 0.45; sigue siendo inferior a 0.50 pero muy superior al 0.37 que obteniamos sin los penalties. El desempeño del modelo para vino tipo White desmejora"
   ]
  },
  {
   "cell_type": "code",
   "execution_count": null,
   "metadata": {},
   "outputs": [],
   "source": []
  }
 ],
 "metadata": {
  "kernelspec": {
   "display_name": "Python 3",
   "language": "python",
   "name": "python3"
  },
  "language_info": {
   "codemirror_mode": {
    "name": "ipython",
    "version": 3
   },
   "file_extension": ".py",
   "mimetype": "text/x-python",
   "name": "python",
   "nbconvert_exporter": "python",
   "pygments_lexer": "ipython3",
   "version": "3.6.5"
  }
 },
 "nbformat": 4,
 "nbformat_minor": 1
}
